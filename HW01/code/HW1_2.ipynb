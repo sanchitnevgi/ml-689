{
 "cells": [
  {
   "cell_type": "code",
   "execution_count": 1,
   "metadata": {},
   "outputs": [],
   "source": [
    "import numpy as np\n",
    "import matplotlib.pyplot as plt\n",
    "\n",
    "%matplotlib inline\n",
    "%config InlineBackend.figure_format = 'retina'\n",
    "\n",
    "%load_ext autoreload\n",
    "%autoreload 2\n",
    "\n",
    "plt.rcParams['figure.figsize'] = (10.0, 8.0) # set default size of plots"
   ]
  },
  {
   "cell_type": "code",
   "execution_count": 2,
   "metadata": {},
   "outputs": [
    {
     "name": "stdout",
     "output_type": "stream",
     "text": [
      "train_X (1000, 784)\n",
      "train_y (1000,)\n",
      "test_X (1866, 784)\n",
      "test_y (1866,)\n"
     ]
    }
   ],
   "source": [
    "train_X = np.load('../data/q2_train_X.npy')\n",
    "train_y = np.load('../data/q2_train_y.npy')\n",
    "\n",
    "test_X = np.load('../data/q2_test_X.npy')\n",
    "test_y = np.load('../data/q2_test_y.npy')\n",
    "\n",
    "print('train_X', train_X.shape)\n",
    "print('train_y', train_y.shape)\n",
    "print('test_X', test_X.shape)\n",
    "print('test_y', test_y.shape)"
   ]
  },
  {
   "cell_type": "code",
   "execution_count": 3,
   "metadata": {},
   "outputs": [],
   "source": [
    "from augmented_logistic_regression import AugmentedLogisticRegression\n",
    "\n",
    "log_model = AugmentedLogisticRegression(lmbda=1e-6)"
   ]
  },
  {
   "cell_type": "code",
   "execution_count": 12,
   "metadata": {},
   "outputs": [],
   "source": [
    "def compute_mse(y, y_pred):\n",
    "    N = y.shape[0]\n",
    "    assert y.shape == y_pred.shape\n",
    "    \n",
    "    return np.sum((y - y_pred) ** 2) / N"
   ]
  },
  {
   "cell_type": "code",
   "execution_count": 21,
   "metadata": {},
   "outputs": [
    {
     "name": "stdout",
     "output_type": "stream",
     "text": [
      "Final loss value 0.003075955602572111\n",
      "0.9753483386923901\n",
      "MSE: 0.09860664523043944\n"
     ]
    }
   ],
   "source": [
    "N, D = train_X.shape\n",
    "wcb = np.zeros((2*D+1,))\n",
    "\n",
    "log_model.fit(train_X, train_y)\n",
    "prediction = log_model.predict(test_X)\n",
    "\n",
    "print((test_y == prediction).mean())\n",
    "print('MSE:', compute_mse(test_y, prediction))"
   ]
  },
  {
   "cell_type": "code",
   "execution_count": 22,
   "metadata": {},
   "outputs": [
    {
     "name": "stdout",
     "output_type": "stream",
     "text": [
      "0.9769560557341908\n",
      "MSE: 0.09217577706323687\n"
     ]
    }
   ],
   "source": [
    "from sklearn.linear_model import LogisticRegression\n",
    "\n",
    "logistic_model = LogisticRegression(solver='lbfgs', C=1e6)\n",
    "logistic_model.fit(train_X, train_y)\n",
    "pred_y = logistic_model.predict(test_X)\n",
    "\n",
    "print((test_y == pred_y).mean())\n",
    "print('MSE:', compute_mse(test_y, pred_y))"
   ]
  },
  {
   "cell_type": "code",
   "execution_count": null,
   "metadata": {},
   "outputs": [],
   "source": []
  }
 ],
 "metadata": {
  "kernelspec": {
   "display_name": "Python 3",
   "language": "python",
   "name": "python3"
  },
  "language_info": {
   "codemirror_mode": {
    "name": "ipython",
    "version": 3
   },
   "file_extension": ".py",
   "mimetype": "text/x-python",
   "name": "python",
   "nbconvert_exporter": "python",
   "pygments_lexer": "ipython3",
   "version": "3.6.9"
  }
 },
 "nbformat": 4,
 "nbformat_minor": 2
}
