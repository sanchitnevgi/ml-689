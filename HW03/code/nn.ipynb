{
 "cells": [
  {
   "cell_type": "code",
   "execution_count": 1,
   "metadata": {},
   "outputs": [],
   "source": [
    "import numpy as np\n",
    "import torch\n",
    "import torch.nn as nn\n",
    "import torch.nn.functional as F\n",
    "import torch.optim\n",
    "from torch.utils.data import TensorDataset, DataLoader\n",
    "import matplotlib.pyplot as plt\n",
    "\n",
    "%load_ext autoreload\n",
    "%autoreload 2"
   ]
  },
  {
   "cell_type": "code",
   "execution_count": 2,
   "metadata": {},
   "outputs": [],
   "source": [
    "data = np.load(\"../data/mnist_rot_train.npz\")\n",
    "X_tr = torch.from_numpy(data[\"X\"]).float()\n",
    "y_tr = torch.from_numpy(data[\"labels\"])\n",
    "a_tr = torch.from_numpy(data[\"angles\"])\n",
    "\n",
    "# data = np.load(\"../data/mnist_rot_validation.npz\")\n",
    "# X_val = torch.from_numpy(data[\"X\"]).float()\n",
    "# y_val = torch.from_numpy(data[\"labels\"])\n",
    "# a_val = torch.from_numpy(data[\"angles\"])"
   ]
  },
  {
   "cell_type": "code",
   "execution_count": 3,
   "metadata": {},
   "outputs": [],
   "source": [
    "class Net(nn.Module):\n",
    "    def __init__(self):\n",
    "        super(Net, self).__init__()\n",
    "\n",
    "        self.linear1 = nn.Sequential(\n",
    "            nn.Linear(784, 256),\n",
    "            nn.ReLU(inplace=True),\n",
    "            nn.Linear(256, 64),\n",
    "            nn.ReLU(inplace=True)\n",
    "        )\n",
    "\n",
    "        # Classification branch\n",
    "        self.linear2 = nn.Sequential(\n",
    "            nn.Linear(64, 32),\n",
    "            nn.ReLU(inplace=True),\n",
    "            nn.Linear(32, 10)\n",
    "        )\n",
    "\n",
    "        # Angle branch\n",
    "        self.linear3 = nn.Sequential(\n",
    "            nn.Linear(64, 32),\n",
    "            nn.ReLU(inplace=True),\n",
    "            nn.Linear(32, 1)\n",
    "        )\n",
    "\n",
    "    def forward(self, X):\n",
    "        h1 = self.linear1(X)\n",
    "\n",
    "        h2 = self.linear2(h1)\n",
    "        h3 = self.linear3(h1).view(-1)\n",
    "\n",
    "        return h2, h3\n",
    "\n",
    "    def predict(self, X):\n",
    "        y_pred, a_pred = self.forward(X)\n",
    "        y_pred = torch.argmax(y_pred, dim=1)\n",
    "\n",
    "        return y_pred, a_pred"
   ]
  },
  {
   "cell_type": "code",
   "execution_count": 4,
   "metadata": {},
   "outputs": [],
   "source": [
    "def calculate_error(y_pred, y, a_pred, a):\n",
    "    class_err = (y_pred != y).float().mean().item()\n",
    "    angle_err = torch.abs(a_pred - a).mean().item()\n",
    "\n",
    "    return class_err, angle_err\n",
    "\n",
    "\n",
    "class_errs, angle_errs = [], []\n",
    "\n",
    "\n",
    "def train(alpha=0.5):\n",
    "    model = Net()\n",
    "    epochs = 20\n",
    "\n",
    "    optimizer = torch.optim.Adam(model.parameters(), lr=1e-4, weight_decay=1e-4)\n",
    "    dataset = TensorDataset(X_tr, y_tr, a_tr)\n",
    "    train_loader = DataLoader(dataset, batch_size=64, shuffle=True)\n",
    "\n",
    "    for i in range(epochs):\n",
    "        loss = None\n",
    "        for X_batch, y_batch, a_batch in train_loader:\n",
    "            y_pred, a_pred = model.forward(X_batch)\n",
    "\n",
    "            ce_loss = F.cross_entropy(y_pred, y_batch, reduction='sum')\n",
    "            a_loss = 0.5 * (1 - torch.cos(0.01745 * (a_batch - a_pred))).sum()\n",
    "            loss = (alpha * ce_loss) + (1 - alpha) * a_loss\n",
    "\n",
    "            optimizer.zero_grad()\n",
    "            loss.backward()\n",
    "            optimizer.step()\n",
    "        if i % 5 == 0:\n",
    "            print('Loss', loss.item())\n",
    "    # Predict\n",
    "    y_pred, a_pred = model.predict(X_tr)\n",
    "    errors = calculate_error(y_pred, y_tr, a_pred, a_tr)\n",
    "    print(errors)\n",
    "\n",
    "    return errors"
   ]
  },
  {
   "cell_type": "code",
   "execution_count": 5,
   "metadata": {},
   "outputs": [
    {
     "name": "stdout",
     "output_type": "stream",
     "text": [
      "Loss 5.85087163412249\n",
      "Loss 1.2046803334160567\n",
      "Loss 3.694387439287747\n",
      "Loss 0.18705142907837752\n",
      "(0.001366666634567082, 8.032745479059994)\n"
     ]
    },
    {
     "data": {
      "text/plain": [
       "(0.001366666634567082, 8.032745479059994)"
      ]
     },
     "execution_count": 5,
     "metadata": {},
     "output_type": "execute_result"
    }
   ],
   "source": [
    "train(0.5)\n",
    "\n",
    "# for i in range(11):\n",
    "#     alpha = 0.1 * i\n",
    "#     cls_err, a_mae = train(alpha)\n",
    "\n",
    "#     print('a', alpha, cls_err, a_mae)\n",
    "\n",
    "#     class_errs.append(cls_err)\n",
    "#     angle_errs.append(a_mae)"
   ]
  },
  {
   "cell_type": "code",
   "execution_count": 28,
   "metadata": {},
   "outputs": [
    {
     "data": {
      "text/plain": [
       "[<matplotlib.lines.Line2D at 0x12c075940>]"
      ]
     },
     "execution_count": 28,
     "metadata": {},
     "output_type": "execute_result"
    },
    {
     "data": {
      "image/png": "[encoded data removed]",
      "text/plain": [
       "<Figure size 1440x576 with 2 Axes>"
      ]
     },
     "metadata": {
      "needs_background": "light"
     },
     "output_type": "display_data"
    }
   ],
   "source": [
    "plt.rcParams[\"figure.figsize\"] = (20, 8)\n",
    "\n",
    "plt.subplot(1, 2, 1)\n",
    "plt.ylabel('Error rate')\n",
    "plt.xlabel('Alpha: α')\n",
    "plt.plot(np.linspace(0, 1, 11), class_errs, '-r')\n",
    "\n",
    "plt.subplot(1, 2, 2)\n",
    "plt.ylabel('Mean Absoute Error (MAE)')\n",
    "plt.xlabel('Alpha: α')\n",
    "plt.plot(np.linspace(0, 1, 11), angle_errs, '-g')"
   ]
  },
  {
   "cell_type": "code",
   "execution_count": 37,
   "metadata": {},
   "outputs": [],
   "source": [
    "from nn import NN\n",
    "\n",
    "dimens = [\n",
    "    (784, 256),\n",
    "    (256,),\n",
    "    (256, 64),\n",
    "    (64,),\n",
    "    (64, 32),\n",
    "    (32,),\n",
    "    (64, 32),\n",
    "    (32,),\n",
    "    (32, 10),\n",
    "    (10,),\n",
    "    (32, 1),\n",
    "    (1,),\n",
    "]\n",
    "\n",
    "model = NN(0.5, 20)\n",
    "\n",
    "params = [np.random.rand(*dimen) for dimen in dimens]\n",
    "model.set_params(params)"
   ]
  },
  {
   "cell_type": "code",
   "execution_count": null,
   "metadata": {},
   "outputs": [],
   "source": []
  }
 ],
 "metadata": {
  "kernelspec": {
   "display_name": "Python 3",
   "language": "python",
   "name": "python3"
  },
  "language_info": {
   "codemirror_mode": {
    "name": "ipython",
    "version": 3
   },
   "file_extension": ".py",
   "mimetype": "text/x-python",
   "name": "python",
   "nbconvert_exporter": "python",
   "pygments_lexer": "ipython3",
   "version": "3.6.9"
  }
 },
 "nbformat": 4,
 "nbformat_minor": 4
}
