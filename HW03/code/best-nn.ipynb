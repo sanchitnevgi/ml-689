{
 "cells": [
  {
   "cell_type": "code",
   "execution_count": 1,
   "metadata": {},
   "outputs": [],
   "source": [
    "import numpy as np\n",
    "import torch\n",
    "import torch.nn as nn\n",
    "import torch.nn.functional as F\n",
    "import torch.optim\n",
    "from torch.utils.data import TensorDataset, DataLoader\n",
    "import matplotlib.pyplot as plt\n",
    "\n",
    "%load_ext autoreload\n",
    "%autoreload 2"
   ]
  },
  {
   "cell_type": "code",
   "execution_count": 2,
   "metadata": {},
   "outputs": [
    {
     "name": "stdout",
     "output_type": "stream",
     "text": [
      "torch.Size([60000, 1, 28, 28]) torch.Size([60000]) torch.Size([60000])\n"
     ]
    }
   ],
   "source": [
    "data = np.load(\"../data/mnist_rot_train.npz\")\n",
    "X_tr = torch.from_numpy(data[\"X\"]).float()\n",
    "N, D = X_tr.shape\n",
    "X_tr = X_tr.view(N, 1, 28, 28)\n",
    "\n",
    "y_tr = torch.from_numpy(data[\"labels\"])\n",
    "a_tr = torch.from_numpy(data[\"angles\"])\n",
    "\n",
    "data = np.load(\"../data/mnist_rot_validation.npz\")\n",
    "X_val = torch.from_numpy(data[\"X\"]).float()\n",
    "N, D = X_val.shape\n",
    "X_val = X_val.view(N, 1, 28, 28)\n",
    "\n",
    "y_val = torch.from_numpy(data[\"labels\"])\n",
    "a_val = torch.from_numpy(data[\"angles\"])\n",
    "\n",
    "print(X_tr.shape, y_tr.shape, a_tr.shape)"
   ]
  },
  {
   "cell_type": "code",
   "execution_count": 7,
   "metadata": {},
   "outputs": [],
   "source": [
    "class Net(nn.Module):\n",
    "    def __init__(self):\n",
    "        super(Net, self).__init__()\n",
    "\n",
    "        self.conv1 = nn.Sequential(\n",
    "            nn.Conv2d(1, 64, kernel_size=(5, 5), padding=2),\n",
    "            nn.ReLU(inplace=True),\n",
    "            nn.Conv2d(64, 32, kernel_size=(3, 3), padding=1),\n",
    "            nn.ReLU(inplace=True),\n",
    "            nn.MaxPool2d(stride=2, kernel_size=2)\n",
    "        )\n",
    "\n",
    "        self.fc1 = nn.Sequential(\n",
    "            nn.Linear(32 * 14 * 14, 64),\n",
    "            nn.ReLU(inplace=True),\n",
    "            nn.Linear(64, 32),\n",
    "            nn.ReLU(inplace=True),\n",
    "            nn.Linear(32, 10)\n",
    "        )\n",
    "\n",
    "    def forward(self, X):\n",
    "        h1 = self.conv1(X)\n",
    "        h1 = torch.flatten(h1, start_dim=1)\n",
    "\n",
    "        h2 = self.fc1(h1)\n",
    "\n",
    "        return h2\n",
    "\n",
    "    def predict(self, X):\n",
    "        y_pred = self.forward(X)\n",
    "        y_pred = torch.argmax(y_pred, dim=1)\n",
    "\n",
    "        return y_pred"
   ]
  },
  {
   "cell_type": "code",
   "execution_count": 8,
   "metadata": {},
   "outputs": [],
   "source": [
    "def train(model, epochs=5):\n",
    "    optimizer = torch.optim.Adam(model.parameters(), lr=1e-4, weight_decay=1e-4)\n",
    "    dataset = TensorDataset(X_tr[:10000], y_tr[:10000], a_tr[:10000])\n",
    "    train_loader = DataLoader(dataset, batch_size=64, shuffle=True)\n",
    "\n",
    "    for i in range(epochs):\n",
    "        loss = None\n",
    "        for i, (X_batch, y_batch, a_batch) in enumerate(train_loader):\n",
    "            y_pred = model.forward(X_batch)\n",
    "\n",
    "            loss = F.cross_entropy(y_pred, y_batch, reduction='sum')\n",
    "\n",
    "            if i % 200 == 0:\n",
    "                print(loss.item())\n",
    "\n",
    "            optimizer.zero_grad()\n",
    "            loss.backward()\n",
    "            optimizer.step()"
   ]
  },
  {
   "cell_type": "code",
   "execution_count": 9,
   "metadata": {},
   "outputs": [
    {
     "name": "stdout",
     "output_type": "stream",
     "text": [
      "534.8815307617188\n"
     ]
    }
   ],
   "source": [
    "model = Net()\n",
    "\n",
    "train(model, epochs=1)"
   ]
  },
  {
   "cell_type": "code",
   "execution_count": 10,
   "metadata": {},
   "outputs": [
    {
     "name": "stdout",
     "output_type": "stream",
     "text": [
      "Val acc tensor(0.2216)\n"
     ]
    }
   ],
   "source": [
    "def get_class_err(y_pred, y):\n",
    "    return (y_pred == y).float().mean()\n",
    "\n",
    "# y_pred = model.predict(X_tr)\n",
    "# print(y_pred.shape)\n",
    "# print('Train acc', get_class_err(y_pred, y_tr))\n",
    "\n",
    "y_pred = model.predict(X_val)\n",
    "print('Val acc', get_class_err(y_pred, y_val))"
   ]
  },
  {
   "cell_type": "code",
   "execution_count": null,
   "metadata": {},
   "outputs": [],
   "source": []
  }
 ],
 "metadata": {
  "kernelspec": {
   "display_name": "Python 3",
   "language": "python",
   "name": "python3"
  },
  "language_info": {
   "codemirror_mode": {
    "name": "ipython",
    "version": 3
   },
   "file_extension": ".py",
   "mimetype": "text/x-python",
   "name": "python",
   "nbconvert_exporter": "python",
   "pygments_lexer": "ipython3",
   "version": "3.6.9"
  }
 },
 "nbformat": 4,
 "nbformat_minor": 4
}
