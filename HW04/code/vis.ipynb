{
 "cells": [
  {
   "cell_type": "code",
   "execution_count": 1,
   "metadata": {},
   "outputs": [],
   "source": [
    "import numpy as np\n",
    "import torch\n",
    "import torch.nn as nn\n",
    "import torch.nn.functional as F\n",
    "import torch.optim as optim\n",
    "from torch.utils.data import TensorDataset, DataLoader\n",
    "import matplotlib.pyplot as plt\n",
    "\n",
    "from mixture import mixture_model, Mixture\n",
    "\n",
    "%matplotlib inline\n",
    "plt.rcParams['figure.figsize'] = (10.0, 8.0) # set default size of plots\n",
    "plt.rcParams['image.interpolation'] = 'nearest'\n",
    "plt.rcParams['image.cmap'] = 'gray'\n",
    "\n",
    "%load_ext autoreload\n",
    "%autoreload 2"
   ]
  },
  {
   "cell_type": "code",
   "execution_count": 2,
   "metadata": {},
   "outputs": [],
   "source": [
    "data=np.load(\"../data/data.npz\")\n",
    "\n",
    "xtr1 = data[\"xtr1\"]\n",
    "xtr2 = data[\"xtr2\"]\n",
    "xte1 = data[\"xte1\"]\n",
    "xte2 = data[\"xte2\"]"
   ]
  },
  {
   "cell_type": "code",
   "execution_count": 7,
   "metadata": {},
   "outputs": [],
   "source": [
    "def train(X):\n",
    "    best_all = [float('-inf')] * 20\n",
    "    best_models = [None] * 20\n",
    "    \n",
    "    N, D = X.shape\n",
    "\n",
    "    for K in range(1, 21):\n",
    "        # Train model 10 times\n",
    "        for i in range(10):\n",
    "            mm = mixture_model(K=K)\n",
    "\n",
    "            mm.fit(X, mu_init=None, b_init=None, pi_init=None, step=0.1, epochs=20)\n",
    "\n",
    "            val = mm.marginal_likelihood(X)\n",
    "\n",
    "            if val > best_all[K-1]:\n",
    "                best_all[K-1] = val\n",
    "                best_models[K-1] = mm\n",
    "\n",
    "        print(K, best_all[K-1])\n",
    "\n",
    "    return best_all, best_models"
   ]
  },
  {
   "cell_type": "code",
   "execution_count": 8,
   "metadata": {
    "scrolled": true
   },
   "outputs": [
    {
     "name": "stdout",
     "output_type": "stream",
     "text": [
      "1 -7324.89661668294\n",
      "2 -6658.583092653651\n",
      "3 -6088.610452772076\n",
      "4 -5399.283521932869\n",
      "5 -5019.862647628986\n",
      "6 -4616.00778532137\n",
      "7 -4298.001806140083\n",
      "8 -4044.3555063095782\n",
      "9 -3867.5708435600673\n",
      "10 -3874.8645426055427\n",
      "11 -3801.700955386079\n",
      "12 -3762.8857795360423\n",
      "13 -3758.0410462675945\n",
      "14 -3759.9438341925024\n",
      "15 -3779.2822490454187\n",
      "16 -3740.886411369898\n",
      "17 -3769.1752159989946\n",
      "18 -3711.527365686322\n",
      "19 -3749.133675071745\n",
      "20 -3745.4704046748416\n"
     ]
    }
   ],
   "source": [
    "tr_vals, tr_models = train(xtr2)"
   ]
  },
  {
   "cell_type": "code",
   "execution_count": 33,
   "metadata": {
    "scrolled": true
   },
   "outputs": [
    {
     "data": {
      "text/plain": [
       "[0.8130451113399197,\n",
       " 0.6913816561689267,\n",
       " 0.6476574180913176,\n",
       " 0.5454624828368659,\n",
       " 0.5067920515360808,\n",
       " 0.46012109298682097,\n",
       " 0.43028965066791686,\n",
       " 0.3903888804439686,\n",
       " 0.3623325033003723,\n",
       " 0.36768264349684543,\n",
       " 0.3576335326687837,\n",
       " 0.36133054190069486,\n",
       " 0.36030685158701387,\n",
       " 0.36229689779052526,\n",
       " 0.3604994915917089,\n",
       " 0.3577984488963675,\n",
       " 0.3618621740709652,\n",
       " 0.3594797207496135,\n",
       " 0.3580131151037871,\n",
       " 0.35725233217564256]"
      ]
     },
     "execution_count": 33,
     "metadata": {},
     "output_type": "execute_result"
    }
   ],
   "source": [
    "mean_vals = []\n",
    "\n",
    "for model in tr_models:\n",
    "    imputed = model.impute(xtr2)\n",
    "    assert imputed.shape == xtr2.shape\n",
    "    \n",
    "    nan_mask = np.isnan(xtr2)\n",
    "    missing_vals = nan_mask * imputed\n",
    "\n",
    "    X_ans = np.nan_to_num(xte2)\n",
    "    \n",
    "    nonzero = np.count_nonzero(X_ans)\n",
    "    \n",
    "    mean_val = np.abs(X_ans - missing_vals).sum() / nonzero\n",
    "    mean_vals.append(mean_val)\n",
    "\n",
    "mean_vals"
   ]
  },
  {
   "cell_type": "code",
   "execution_count": 34,
   "metadata": {},
   "outputs": [
    {
     "data": {
      "image/png": "[encoded data removed]",
      "text/plain": [
       "<Figure size 432x288 with 1 Axes>"
      ]
     },
     "metadata": {
      "needs_background": "light"
     },
     "output_type": "display_data"
    }
   ],
   "source": [
    "plt.xlabel('K (Number of clusters)')\n",
    "plt.ylabel('Mean Absolute Error (MAE)')\n",
    "\n",
    "x = np.linspace(1, 20, num=20)\n",
    "\n",
    "plt.xticks(range(1, 21))\n",
    "plt.plot(x, mean_vals, 'bx')\n",
    "\n",
    "plt.show()"
   ]
  },
  {
   "cell_type": "code",
   "execution_count": null,
   "metadata": {},
   "outputs": [],
   "source": [
    "test_mgl = []\n",
    "for model in tr_models:\n",
    "    test_mgl.append(model.forward(torch.from_numpy(xte1)))\n",
    "\n",
    "test_mgl"
   ]
  },
  {
   "cell_type": "code",
   "execution_count": null,
   "metadata": {},
   "outputs": [],
   "source": [
    "plt.xlabel('K (Number of clusters)')\n",
    "plt.ylabel('Log Marginal Likelihood')\n",
    "\n",
    "x = np.linspace(1, 20, num=20)\n",
    "\n",
    "plt.xticks(range(1, 21))\n",
    "plt.plot(x, tr_vals, 'rx', label='Train marginal log likelihood')\n",
    "plt.plot(x, test_mgl, 'bx', label='Test marginal log likelihood')\n",
    "plt.legend()\n",
    "\n",
    "plt.show()"
   ]
  },
  {
   "cell_type": "code",
   "execution_count": null,
   "metadata": {},
   "outputs": [],
   "source": [
    "tr_c_vals, tr_c_models = train(xtr1)"
   ]
  },
  {
   "cell_type": "code",
   "execution_count": null,
   "metadata": {},
   "outputs": [],
   "source": [
    "test_c_mgl = []\n",
    "for model in tr_c_models:\n",
    "    test_c_mgl.append(model.forward(torch.from_numpy(xte1)))"
   ]
  },
  {
   "cell_type": "code",
   "execution_count": null,
   "metadata": {},
   "outputs": [],
   "source": [
    "plt.xlabel('K (Number of clusters)')\n",
    "plt.ylabel('Log Marginal Likelihood')\n",
    "\n",
    "x = np.linspace(1, 20, num=20)\n",
    "\n",
    "plt.xticks(range(1, 21))\n",
    "plt.plot(x, tr_c_vals, 'rx', label='Train marginal log likelihood')\n",
    "plt.plot(x, test_c_mgl, 'bx', label='Test marginal log likelihood')\n",
    "plt.legend()\n",
    "\n",
    "plt.show()"
   ]
  },
  {
   "cell_type": "code",
   "execution_count": null,
   "metadata": {},
   "outputs": [],
   "source": [
    "X_2_tensor = torch.from_numpy(xtr2)\n",
    "\n",
    "for k_i, model in enumerate(tr_c_models):\n",
    "    N, D = X_2_tensor.shape\n",
    "    K = k_i + 1\n",
    "\n",
    "    mu, pi, b = model.mu, model.pi, model.b\n",
    "\n",
    "    pi_norm = torch.softmax(pi)\n",
    "\n",
    "    pz = torch.zeros((N, K))\n",
    "\n",
    "    for k in range(K):\n",
    "        mu_d, b_d = mu[:, k], torch.exp(b[:, k])\n",
    "\n",
    "        p_xz = 1 / (2 * b_d) * torch.exp(-torch.abs(X_2_tensor - mu_d) / b_d)\n",
    "\n",
    "        p_nan = torch.isnan(p_xz)\n",
    "        p_xz[p_nan] = 1.\n",
    "\n",
    "        p_xz_z = p_xz.prod(axis=1) * pi_norm[k]\n",
    "\n",
    "        pz[:, k] = p_xz_z\n",
    "\n",
    "        pz = pz / pz.sum(dim=1, keepdims=True)\n",
    "\n",
    "    X_nan = torch.isnan(X_2_tensor)\n",
    "\n",
    "    XI = X_2_tensor.clone()\n",
    "    XI[X_nan] = 0\n",
    "\n",
    "    pz_mean = pz @ mu.T\n",
    "\n",
    "    XI = XI + (X_nan * pz_mean)"
   ]
  },
  {
   "cell_type": "code",
   "execution_count": null,
   "metadata": {},
   "outputs": [],
   "source": []
  }
 ],
 "metadata": {
  "kernelspec": {
   "display_name": "Python 3",
   "language": "python",
   "name": "python3"
  },
  "language_info": {
   "codemirror_mode": {
    "name": "ipython",
    "version": 3
   },
   "file_extension": ".py",
   "mimetype": "text/x-python",
   "name": "python",
   "nbconvert_exporter": "python",
   "pygments_lexer": "ipython3",
   "version": "3.6.9"
  }
 },
 "nbformat": 4,
 "nbformat_minor": 2
}
