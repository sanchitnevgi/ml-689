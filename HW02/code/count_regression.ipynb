{
 "cells": [
  {
   "cell_type": "code",
   "execution_count": 1,
   "metadata": {},
   "outputs": [],
   "source": [
    "import numpy as np\n",
    "import matplotlib.pyplot as plt\n",
    "\n",
    "%matplotlib inline\n",
    "%config InlineBackend.figure_format = 'retina'\n",
    "\n",
    "%load_ext autoreload\n",
    "%autoreload 2\n",
    "\n",
    "plt.rcParams['figure.figsize'] = (10.0, 8.0) # set default size of plots"
   ]
  },
  {
   "cell_type": "code",
   "execution_count": 2,
   "metadata": {},
   "outputs": [
    {
     "name": "stdout",
     "output_type": "stream",
     "text": [
      "X_train (1000, 2)\n",
      "y_train (1000,)\n",
      "X_test (500, 2)\n",
      "y_test (500,)\n"
     ]
    }
   ],
   "source": [
    "data = np.load(\"../data/count_data.npz\")\n",
    "\n",
    "X_train = data['X_train']\n",
    "y_train = data['Y_train']\n",
    "\n",
    "X_test = data['X_test']\n",
    "y_test = data['Y_test']\n",
    "\n",
    "print(\"X_train\", X_train.shape)\n",
    "print(\"y_train\", y_train.shape)\n",
    "print(\"X_test\", X_test.shape)\n",
    "print(\"y_test\", y_test.shape)"
   ]
  },
  {
   "cell_type": "code",
   "execution_count": 3,
   "metadata": {},
   "outputs": [
    {
     "name": "stdout",
     "output_type": "stream",
     "text": [
      "1000 1 2\n",
      "Initial loss 3853.2051767327357\n",
      "Initial grad [  386.06366597 -1744.49380844  1779.5       ]\n",
      "Min loss value 2499.213726255116\n"
     ]
    }
   ],
   "source": [
    "from count_regression import CountRegression\n",
    "\n",
    "model = CountRegression(1e-4)\n",
    "\n",
    "n_samples, n_features = X_train.shape\n",
    "n_classes = 1\n",
    "\n",
    "print(n_samples, n_classes, n_features)\n",
    "\n",
    "init_wb = np.zeros((n_features + 1, n_classes))\n",
    "\n",
    "obj_init = model.objective(init_wb, X_train, y_train)\n",
    "print('Initial loss', obj_init)\n",
    "\n",
    "grad = model.objective_grad(init_wb, X_train, y_train)\n",
    "print('Initial grad', grad)\n",
    "\n",
    "model.fit(X_train, y_train)\n",
    "# 3853.2051767327357\n",
    "# 2499.2137262563706"
   ]
  },
  {
   "cell_type": "code",
   "execution_count": 4,
   "metadata": {},
   "outputs": [
    {
     "name": "stdout",
     "output_type": "stream",
     "text": [
      "Mean log likelihood -2.505942002758697\n",
      "w [-0.07865909  0.36477745]\n",
      "b -1.366657745627738\n"
     ]
    }
   ],
   "source": [
    "w, b = model.get_params()\n",
    "\n",
    "n_samples, n_features = X_test.shape\n",
    "w = w.reshape((n_features, 1))\n",
    "\n",
    "linear_comp = X_test @ w + b\n",
    "\n",
    "fx = 1 / (1 + np.exp(-linear_comp))\n",
    "assert fx.shape == (n_samples, 1)\n",
    "\n",
    "y = y_test.reshape((n_samples, 1))\n",
    "likelihood = fx * ((1 - fx) ** y)\n",
    "assert likelihood.shape == (n_samples, 1)\n",
    "\n",
    "mean_log_likelihood = np.log(likelihood).mean()\n",
    "\n",
    "print('Mean log likelihood', mean_log_likelihood)\n",
    "print('w', w.ravel())\n",
    "print('b', b)"
   ]
  },
  {
   "cell_type": "code",
   "execution_count": 8,
   "metadata": {
    "scrolled": true
   },
   "outputs": [
    {
     "name": "stdout",
     "output_type": "stream",
     "text": [
      "Train accuracy 0.123498\n",
      "Mean Squared Error 1.354\n",
      "[9. 4. 9. 5. 1. 2. 2. 2. 8. 3.]\n",
      "[9. 5. 8. 4. 1. 2. 2. 0. 9. 2.]\n"
     ]
    }
   ],
   "source": [
    "y_pred = model.predict(X_train)\n",
    "print('Train accuracy', (y_pred == y_train).mean())\n",
    "\n",
    "y_pred = model.predict(X_test)\n",
    "print('Mean Squared Error', ((y - y_pred) ** 2).mean())\n",
    "\n",
    "print(y_pred[:10].ravel())\n",
    "print(y_test[:10].ravel())"
   ]
  },
  {
   "cell_type": "code",
   "execution_count": null,
   "metadata": {},
   "outputs": [],
   "source": []
  },
  {
   "cell_type": "code",
   "execution_count": null,
   "metadata": {},
   "outputs": [],
   "source": []
  }
 ],
 "metadata": {
  "kernelspec": {
   "display_name": "Python 3",
   "language": "python",
   "name": "python3"
  },
  "language_info": {
   "codemirror_mode": {
    "name": "ipython",
    "version": 3
   },
   "file_extension": ".py",
   "mimetype": "text/x-python",
   "name": "python",
   "nbconvert_exporter": "python",
   "pygments_lexer": "ipython3",
   "version": "3.6.9"
  }
 },
 "nbformat": 4,
 "nbformat_minor": 2
}
